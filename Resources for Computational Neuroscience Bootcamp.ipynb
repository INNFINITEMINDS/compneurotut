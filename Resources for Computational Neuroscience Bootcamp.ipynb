{
 "cells": [
  {
   "cell_type": "markdown",
   "metadata": {},
   "source": [
    "# Resources for Computational Neuroscience Bootcamp\n",
    "The following resources are compiled for getting started with computational neuroscience, mostly in Python. \n",
    "\n",
    "\n",
    "\"Comp neuro\" has two meanings, depending on who you're talking to: \n",
    "\n",
    "###### 1. analysis of empirical neural data using computational methods\n",
    "###### 2. theoretical neuroscience utilizing computational modeling \n",
    "\n",
    "Below are some resources provided for both of these categories."
   ]
  },
  {
   "cell_type": "markdown",
   "metadata": {},
   "source": [
    "### Coding resources\n",
    "getting set up and learning Python: https://github.com/TomDonoghue/PythonBootcamp\n",
    "\n",
    "#####  Analysis:\n",
    "neurodsp: https://github.com/voytekresearch/neurodsp\n",
    "\n",
    "MNE: https://martinos.org/mne/stable/index.html\n",
    "\n",
    "##### Modeling:\n",
    "\n",
    "brian2: https://brian2.readthedocs.io/en/stable/\n",
    "\n",
    "lfpy: https://lfpy.github.io/\n",
    "\n",
    "modelDB: https://senselab.med.yale.edu/modeldb/\n",
    "\n",
    "##### General:\n",
    "http://www.scholarpedia.org/article/Encyclopedia:Computational_neuroscience\n",
    "\n",
    "http://home.earthlink.net/~perlewitz/"
   ]
  },
  {
   "cell_type": "markdown",
   "metadata": {},
   "source": [
    "### Content resources\n",
    "Biophysical and spiking neural network modeling: \n",
    "- http://neuronaldynamics.epfl.ch/online/index.html\n",
    "- http://icwww.epfl.ch/~gerstner/SPNM/SPNM.html\n",
    "\n",
    "DSP: \n",
    "- http://www.dspguide.com/"
   ]
  },
  {
   "cell_type": "markdown",
   "metadata": {},
   "source": [
    "### Data\n",
    "CRCNS: https://crcns.org/data-sets/\n",
    "\n",
    "neurotycho: http://neurotycho.org/\n",
    "\n",
    "Parkinsons: https://github.com/voytekresearch/Cole_2017\n",
    "\n",
    "\n"
   ]
  },
  {
   "cell_type": "markdown",
   "metadata": {},
   "source": [
    "### Content topics:\n",
    "- Time-series analysis: time domain (waveform), frequency domain (PSD, 1/f), filtering, PAC\n",
    "- Spike train analysis\n",
    "- Spatiotemporal Response Function (STRF)\n",
    "- Simulating LNP, spiking, and rate neurons, neural mass modeling\n",
    "- Bayesian models\n",
    "- Factor analysis: PCA, manifolds, etc\n",
    "- Information theory & other advanced statistical analyses"
   ]
  },
  {
   "cell_type": "code",
   "execution_count": null,
   "metadata": {
    "collapsed": true
   },
   "outputs": [],
   "source": []
  }
 ],
 "metadata": {
  "kernelspec": {
   "display_name": "Python 3",
   "language": "python",
   "name": "python3"
  },
  "language_info": {
   "codemirror_mode": {
    "name": "ipython",
    "version": 3
   },
   "file_extension": ".py",
   "mimetype": "text/x-python",
   "name": "python",
   "nbconvert_exporter": "python",
   "pygments_lexer": "ipython3",
   "version": "3.6.1"
  }
 },
 "nbformat": 4,
 "nbformat_minor": 2
}
